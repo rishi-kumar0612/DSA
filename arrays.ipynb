{
 "cells": [
  {
   "cell_type": "code",
   "execution_count": 1,
   "metadata": {},
   "outputs": [],
   "source": [
    "def alter (arr, N):\n",
    "\n",
    "    if N ==0:\n",
    "        return -1\n",
    "    else:\n",
    "        for i in range(len(arr)):\n",
    "            if i%2 ==0:\n",
    "                print(arr[i])"
   ]
  },
  {
   "cell_type": "code",
   "execution_count": 2,
   "metadata": {},
   "outputs": [
    {
     "name": "stdout",
     "output_type": "stream",
     "text": [
      "1\n",
      "3\n",
      "5\n",
      "7\n",
      "9\n"
     ]
    }
   ],
   "source": [
    "arr = [1,2,3,4,5,6,7,8,9]\n",
    "n = len(arr)\n",
    "alter(arr,n)"
   ]
  },
  {
   "cell_type": "code",
   "execution_count": 3,
   "metadata": {},
   "outputs": [],
   "source": [
    "def searchy(arr, m):\n",
    "    if len(arr) == 0 :\n",
    "        return None\n",
    "\n",
    "    for i in range(len(arr)):\n",
    "        if arr[i] == m:\n",
    "            print(\"item found :\",m)\n",
    "            return None\n",
    "\n",
    "        else :\n",
    "            print (\"item not found\")"
   ]
  },
  {
   "cell_type": "code",
   "execution_count": 4,
   "metadata": {},
   "outputs": [
    {
     "name": "stdout",
     "output_type": "stream",
     "text": [
      "item not found\n",
      "item not found\n",
      "item not found\n",
      "item found : 4\n"
     ]
    }
   ],
   "source": [
    "arr = [1,2,3,4,5,6,7,8,9]\n",
    "m = 4\n",
    "searchy(arr,m)"
   ]
  },
  {
   "cell_type": "code",
   "execution_count": 5,
   "metadata": {},
   "outputs": [],
   "source": [
    "def largest(arr):\n",
    "    mx = arr[0]\n",
    "\n",
    "    for i in range(1,len(arr)):\n",
    "        if arr[i] > mx:\n",
    "            mx = arr[i]\n",
    "        \n",
    "    print(\"found the largest item:\",mx)"
   ]
  },
  {
   "cell_type": "code",
   "execution_count": 6,
   "metadata": {},
   "outputs": [
    {
     "name": "stdout",
     "output_type": "stream",
     "text": [
      "found the largest item: 9\n"
     ]
    }
   ],
   "source": [
    "largest(arr)"
   ]
  },
  {
   "cell_type": "code",
   "execution_count": 7,
   "metadata": {},
   "outputs": [],
   "source": [
    "def sec_largest(arr):\n",
    "    lrg = -1\n",
    "    sec_lrg = -1\n",
    "\n",
    "    for i in range(len(arr)):\n",
    "        if arr[i] > lrg:\n",
    "            sec_lrg = lrg\n",
    "            lrg = arr [i]\n",
    "\n",
    "        if arr[i]<lrg and arr[i]>sec_lrg:\n",
    "            sec_lrg = arr[i]\n",
    "\n",
    "    print(\"The second largest item :\", sec_lrg)\n",
    "        \n",
    "    "
   ]
  },
  {
   "cell_type": "code",
   "execution_count": 8,
   "metadata": {},
   "outputs": [
    {
     "name": "stdout",
     "output_type": "stream",
     "text": [
      "The second largest item : 8\n"
     ]
    }
   ],
   "source": [
    "sec_largest(arr)"
   ]
  },
  {
   "cell_type": "code",
   "execution_count": 36,
   "metadata": {},
   "outputs": [],
   "source": [
    "def three_lrg(arr):\n",
    "    if len(arr) < 3 :\n",
    "        print(\"invalid array size\")\n",
    "        return None\n",
    "    \n",
    "    lrg = sec_lrg = third_lrg = float('-inf')\n",
    "\n",
    "    for i in range(len(arr)):\n",
    "        if arr[i]> lrg:\n",
    "            third_lrg = sec_lrg\n",
    "            sec_lrg = lrg\n",
    "            lrg=arr[i]\n",
    "\n",
    "        elif arr[i]!= lrg and arr[i]>sec_lrg:\n",
    "            third_lrg = sec_lrg\n",
    "            sec_lrg = arr[i]\n",
    "            \n",
    "\n",
    "        elif arr[i]!=lrg and arr[i]!=sec_lrg and arr[i]>third_lrg:\n",
    "            third_lrg= arr[i]\n",
    "\n",
    "        \n",
    "    print(\"The first : {} ,The second: {} , The Third : {} \".format(lrg ,sec_lrg ,third_lrg))\n"
   ]
  },
  {
   "cell_type": "code",
   "execution_count": 37,
   "metadata": {},
   "outputs": [
    {
     "name": "stdout",
     "output_type": "stream",
     "text": [
      "The first : 9 ,The second: 8 , The Third : 7 \n"
     ]
    }
   ],
   "source": [
    "three_lrg(arr)"
   ]
  },
  {
   "cell_type": "code",
   "execution_count": 1,
   "metadata": {},
   "outputs": [],
   "source": [
    "arr1 = [16, 17, 4, 3, 5, 2]"
   ]
  },
  {
   "cell_type": "code",
   "execution_count": 9,
   "metadata": {},
   "outputs": [],
   "source": [
    "def Leaders(arr):\n",
    "    result = []\n",
    "    n = len(arr)\n",
    "\n",
    "    maxright = arr[-1]\n",
    "\n",
    "    result.append(maxright)\n",
    "\n",
    "    for i in range(n-2,-1,-1):\n",
    "        if arr[i] >= maxright:\n",
    "            maxright = arr[i]\n",
    "            result.append(maxright)\n",
    "\n",
    "    result.reverse()\n",
    "\n",
    "    print(result)"
   ]
  },
  {
   "cell_type": "code",
   "execution_count": 10,
   "metadata": {},
   "outputs": [
    {
     "name": "stdout",
     "output_type": "stream",
     "text": [
      "[17, 5, 2]\n"
     ]
    }
   ],
   "source": [
    "Leaders(arr1)"
   ]
  },
  {
   "cell_type": "code",
   "execution_count": 11,
   "metadata": {},
   "outputs": [],
   "source": [
    "arr2= [20, 23, 23, 45, 78, 88]\n",
    "n = len(arr2)"
   ]
  },
  {
   "cell_type": "code",
   "execution_count": 12,
   "metadata": {},
   "outputs": [],
   "source": [
    "def sortednot(arr,n):\n",
    "\n",
    "    if n ==0 or n==1:\n",
    "        return True\n",
    "    \n",
    "    for i in range(1,n):\n",
    "\n",
    "        if (arr[i-1]>arr[i]):\n",
    "            return False\n",
    "        \n",
    "    return True\n",
    "\n",
    "\n",
    "\n"
   ]
  },
  {
   "cell_type": "code",
   "execution_count": 13,
   "metadata": {},
   "outputs": [
    {
     "data": {
      "text/plain": [
       "True"
      ]
     },
     "execution_count": 13,
     "metadata": {},
     "output_type": "execute_result"
    }
   ],
   "source": [
    "sortednot(arr2,n)"
   ]
  },
  {
   "cell_type": "code",
   "execution_count": 14,
   "metadata": {},
   "outputs": [],
   "source": [
    "arr3 = [1, 2, 2, 3, 4, 4, 4, 5, 5]"
   ]
  },
  {
   "cell_type": "code",
   "execution_count": 26,
   "metadata": {},
   "outputs": [],
   "source": [
    "def remove_duplicates(arr):\n",
    "\n",
    "    seen = set()\n",
    "\n",
    "    idx = 0\n",
    "\n",
    "    for i in range(len(arr)):\n",
    "        if arr[i] not in seen:\n",
    "            seen.add(arr[i])\n",
    "            arr[idx] = arr[i]\n",
    "            idx+=1\n",
    "\n",
    "    return idx,list(seen)"
   ]
  },
  {
   "cell_type": "code",
   "execution_count": 27,
   "metadata": {},
   "outputs": [
    {
     "data": {
      "text/plain": [
       "(5, [1, 2, 3, 4, 5])"
      ]
     },
     "execution_count": 27,
     "metadata": {},
     "output_type": "execute_result"
    }
   ],
   "source": [
    "remove_duplicates(arr3)"
   ]
  },
  {
   "cell_type": "code",
   "execution_count": 28,
   "metadata": {},
   "outputs": [],
   "source": [
    "def subarrays(arr,start,end):\n",
    "\n",
    "    if end == len(arr): \n",
    "        return\n",
    "    \n",
    "    elif start > end :\n",
    "        return subarrays(arr,0,end+1)\n",
    "    \n",
    "    else:\n",
    "        print(arr[start:end + 1])\n",
    "        return subarrays(arr,start+1,end)\n",
    "    "
   ]
  },
  {
   "cell_type": "code",
   "execution_count": 30,
   "metadata": {},
   "outputs": [
    {
     "name": "stdout",
     "output_type": "stream",
     "text": [
      "[1]\n",
      "[1, 2]\n",
      "[2]\n",
      "[1, 2, 3]\n",
      "[2, 3]\n",
      "[3]\n"
     ]
    }
   ],
   "source": [
    "arr4 = [1,2,3]\n",
    "subarrays(arr4,0,0)"
   ]
  },
  {
   "cell_type": "code",
   "execution_count": 39,
   "metadata": {},
   "outputs": [],
   "source": [
    "def reversearr(arr):\n",
    "\n",
    "    left = 0\n",
    "    right = len(arr)-1\n",
    "\n",
    "    while left < right :\n",
    "        arr[left],arr[right] = arr[right],arr [left]\n",
    "\n",
    "        left +=1\n",
    "\n",
    "        right-=1\n",
    "\n",
    "    print (\"the reversed array : \",arr)"
   ]
  },
  {
   "cell_type": "code",
   "execution_count": 40,
   "metadata": {},
   "outputs": [
    {
     "name": "stdout",
     "output_type": "stream",
     "text": [
      "the reversed array :  [7, 6, 5, 34, 2, 12]\n"
     ]
    }
   ],
   "source": [
    "arr5  = [12,2,34,5,6,7]\n",
    "\n",
    "reversearr(arr5)"
   ]
  },
  {
   "cell_type": "code",
   "execution_count": 3,
   "metadata": {},
   "outputs": [],
   "source": [
    "def rotaterr(arr,d):\n",
    "    n = len(arr)\n",
    "\n",
    "    for i in range(d):\n",
    "        last = arr[n-1]\n",
    "\n",
    "        for i in range(n-1,0,-1):\n",
    "            arr[i] = arr[i-1]\n",
    "        arr[0] = last\n",
    "\n",
    "    print(arr)\n"
   ]
  },
  {
   "cell_type": "code",
   "execution_count": 4,
   "metadata": {},
   "outputs": [
    {
     "name": "stdout",
     "output_type": "stream",
     "text": [
      "[4, 5, 6, 1, 2, 3]\n"
     ]
    }
   ],
   "source": [
    "arr = [1, 2, 3, 4, 5, 6]\n",
    "rotaterr(arr,3)"
   ]
  },
  {
   "cell_type": "code",
   "execution_count": 5,
   "metadata": {},
   "outputs": [],
   "source": [
    "def rotateAlr(arr, d):\n",
    "    n = len(arr)\n",
    "  \n",
    "    for i in range(d):\n",
    "      \n",
    "        first = arr[0]\n",
    "        for j in range(n - 1):\n",
    "            arr[j] = arr[j + 1]\n",
    "        arr[n - 1] = first\n",
    "\n",
    "    print(arr)\n"
   ]
  },
  {
   "cell_type": "code",
   "execution_count": 6,
   "metadata": {},
   "outputs": [
    {
     "name": "stdout",
     "output_type": "stream",
     "text": [
      "[1, 2, 3, 4, 5, 6]\n"
     ]
    }
   ],
   "source": [
    "rotateAlr(arr,3)"
   ]
  },
  {
   "cell_type": "code",
   "execution_count": 11,
   "metadata": {},
   "outputs": [],
   "source": [
    "def rotatetemp(arr,d):\n",
    "    n = len(arr)\n",
    "\n",
    "    d %= n\n",
    "\n",
    "    temp = [0]*n\n",
    "\n",
    "    for i in range(d):\n",
    "        temp[i] = arr[ n - d + i]\n",
    "\n",
    "    for i in range(n-d):\n",
    "        temp[ i + d] = arr[i]\n",
    "\n",
    "    for i in range(n):\n",
    "        arr[i] = temp[i]\n",
    "\n",
    "    print(','.join(map(str,arr)))\n",
    "        "
   ]
  },
  {
   "cell_type": "code",
   "execution_count": 12,
   "metadata": {},
   "outputs": [
    {
     "name": "stdout",
     "output_type": "stream",
     "text": [
      "3,4,5,6,1,2\n"
     ]
    }
   ],
   "source": [
    "rotatetemp(arr,2)"
   ]
  },
  {
   "cell_type": "code",
   "execution_count": 1,
   "metadata": {},
   "outputs": [],
   "source": [
    "def pushzeros(arr):\n",
    "\n",
    "    count = 0 \n",
    "    for i in range(len(arr)):\n",
    "        if arr[i] != 0:\n",
    "            arr[i],arr[count] = arr[count],arr[i]\n",
    "\n",
    "            count +=1\n",
    "\n",
    "    print(\",\".join(map(str,arr)))\n",
    "\n",
    "\n"
   ]
  },
  {
   "cell_type": "code",
   "execution_count": 2,
   "metadata": {},
   "outputs": [
    {
     "name": "stdout",
     "output_type": "stream",
     "text": [
      "1,2,4,3,5,0,0,0\n"
     ]
    }
   ],
   "source": [
    "arr = [1,2,0,4,3,0,5,0]\n",
    "\n",
    "pushzeros(arr)"
   ]
  },
  {
   "cell_type": "code",
   "execution_count": 3,
   "metadata": {},
   "outputs": [
    {
     "data": {
      "text/plain": [
       "5"
      ]
     },
     "execution_count": 3,
     "metadata": {},
     "output_type": "execute_result"
    }
   ],
   "source": [
    "max(arr)"
   ]
  },
  {
   "cell_type": "code",
   "execution_count": 4,
   "metadata": {},
   "outputs": [],
   "source": [
    "def minOps(arr, n, k):\n",
    "\n",
    "    max1 = max(arr)\n",
    "    res = 0\n",
    "\n",
    "    for i in range(0,n):\n",
    "        if ((max1 - arr[i])%k !=0):\n",
    "            return -1\n",
    "        \n",
    "        else:\n",
    "            res += (max1 - arr[i])/ k\n",
    "\n",
    "    return int(res)\n"
   ]
  },
  {
   "cell_type": "code",
   "execution_count": 6,
   "metadata": {},
   "outputs": [
    {
     "name": "stdout",
     "output_type": "stream",
     "text": [
      "15\n"
     ]
    }
   ],
   "source": [
    "arr = [21, 33, 63, 45, 63] \n",
    "n = len(arr)\n",
    "k = 6\n",
    "print(minOps(arr, n, k))"
   ]
  },
  {
   "cell_type": "markdown",
   "metadata": {},
   "source": [
    "Sorting\n",
    "\n",
    "selection sort"
   ]
  },
  {
   "cell_type": "code",
   "execution_count": 9,
   "metadata": {},
   "outputs": [],
   "source": [
    "def selection_Sort(arr):\n",
    "    n = len(arr)\n",
    "    for i in range(n-1):\n",
    "\n",
    "        min_idx = i\n",
    "\n",
    "        for j in range(i+1, n):\n",
    "            if arr[j]< arr[min_idx]:\n",
    "                min_idx = j\n",
    "\n",
    "        arr[i], arr[min_idx] = arr[min_idx], arr[i]\n",
    "\n",
    "    print(\",\".join(map(str,arr)))"
   ]
  },
  {
   "cell_type": "code",
   "execution_count": 11,
   "metadata": {},
   "outputs": [
    {
     "name": "stdout",
     "output_type": "stream",
     "text": [
      "11,12,22,25,64\n"
     ]
    }
   ],
   "source": [
    "arr = [64,25,12,22,11]\n",
    "\n",
    "selection_Sort(arr)\n",
    "\n"
   ]
  },
  {
   "cell_type": "code",
   "execution_count": 12,
   "metadata": {},
   "outputs": [],
   "source": [
    "def insertion_Sort(arr):\n",
    "\n",
    "    for i in range(1, len(arr)):\n",
    "        key = arr[i]\n",
    "        j = i -1\n",
    "\n",
    "        while j >= 0 and key < arr[j]:\n",
    "            arr[j+1] = arr[j]\n",
    "            j-=1\n",
    "\n",
    "        arr[j+1] = key\n",
    "\n",
    "    print(\",\".join(map(str,arr)))"
   ]
  },
  {
   "cell_type": "code",
   "execution_count": 13,
   "metadata": {},
   "outputs": [
    {
     "name": "stdout",
     "output_type": "stream",
     "text": [
      "5,6,11,12,13\n"
     ]
    }
   ],
   "source": [
    "arr = [12, 11, 13, 5, 6]\n",
    "insertion_Sort(arr)"
   ]
  },
  {
   "cell_type": "code",
   "execution_count": 22,
   "metadata": {},
   "outputs": [],
   "source": [
    "def merge(arr,left,mid,right):\n",
    "    n1 = mid - left + 1 \n",
    "    n2 = right - mid\n",
    "\n",
    "    L = [0]*n1\n",
    "    R = [0]*n2\n",
    "\n",
    "    for i in range(n1):\n",
    "        L[i] = arr[left + i]\n",
    "\n",
    "    for j in  range(n2):\n",
    "        R[j] = arr[mid +1 +j]\n",
    "\n",
    "\n",
    "    i = 0 \n",
    "    j = 0 \n",
    "    k = left\n",
    "\n",
    "    while i < n1 and j < n2 :\n",
    "        if L[i] <= R[j] :\n",
    "            arr[k] = L[i]\n",
    "            i +=1\n",
    "\n",
    "        else:\n",
    "            arr[k] = R[j]\n",
    "            j += 1\n",
    "\n",
    "        k += 1\n",
    "\n",
    "    while i < n1 :\n",
    "        arr[k] = L[i]\n",
    "        i +=1\n",
    "        k += 1\n",
    "\n",
    "    while j < n2:\n",
    "        arr[k] = R[j]\n",
    "        j += 1\n",
    "        k += 1\n",
    "\n",
    "\n",
    "def merge_Sort(arr, left, right):\n",
    "    if left < right:\n",
    "        mid = (left + right)//2\n",
    "\n",
    "        merge_Sort(arr,left,mid)\n",
    "        merge_Sort(arr,mid+1,right)\n",
    "        merge(arr,left,mid,right)\n",
    "\n",
    "    print(\",\".join(map(str,arr)))\n"
   ]
  },
  {
   "cell_type": "code",
   "execution_count": 23,
   "metadata": {},
   "outputs": [
    {
     "name": "stdout",
     "output_type": "stream",
     "text": [
      "12,11,13,5,6,7\n",
      "12,11,13,5,6,7\n",
      "11,12,13,5,6,7\n",
      "11,12,13,5,6,7\n",
      "11,12,13,5,6,7\n",
      "11,12,13,5,6,7\n",
      "11,12,13,5,6,7\n",
      "11,12,13,5,6,7\n",
      "11,12,13,5,6,7\n",
      "11,12,13,5,6,7\n",
      "5,6,7,11,12,13\n"
     ]
    }
   ],
   "source": [
    "arr = [12,11,13,5,6,7]\n",
    "\n",
    "merge_Sort(arr, 0 , len(arr)-1)\n"
   ]
  },
  {
   "cell_type": "code",
   "execution_count": 1,
   "metadata": {},
   "outputs": [
    {
     "name": "stdout",
     "output_type": "stream",
     "text": [
      "the task name is task 1\n",
      "the task name is task 2\n",
      "the task name is task 3\n"
     ]
    }
   ],
   "source": [
    "import threading\n",
    "\n",
    "tasks = [\"task 1\", \"task 2\", \"task 3\"]\n",
    "threads = []\n",
    "\n",
    "\n",
    "def run_task(task_name):\n",
    "    print(f\"the task name is {task_name}\")\n",
    "\n",
    "for tasks in tasks:\n",
    "    thread = threading.Thread(target = run_task, args=(tasks,))\n",
    "    threads.append(thread)\n",
    "    thread.start()\n",
    "\n",
    "for thread in threads:\n",
    "    thread.join()\n",
    "\n"
   ]
  },
  {
   "cell_type": "code",
   "execution_count": 7,
   "metadata": {},
   "outputs": [
    {
     "name": "stdout",
     "output_type": "stream",
     "text": [
      "the task name is : task1\n",
      "thread started : <Thread(Thread-150 (print_threads), started 128714583037696)>\n",
      "the task name is : task2\n",
      "thread started : <Thread(Thread-151 (print_threads), started 128714591430400)>\n",
      "the task name is : task3\n",
      "thread started : <Thread(Thread-152 (print_threads), started 128714599823104)>\n",
      "the task is ended:(<Thread(Thread-150 (print_threads), stopped 128714583037696)>,)\n",
      "the task is ended:(<Thread(Thread-151 (print_threads), stopped 128714591430400)>,)\n",
      "the task is ended:(<Thread(Thread-152 (print_threads), stopped 128714599823104)>,)\n"
     ]
    }
   ],
   "source": [
    "import threading\n",
    "import time\n",
    "\n",
    "tasks =['task1','task2', 'task3']\n",
    "\n",
    "threads= []\n",
    "\n",
    "def print_threads(task):\n",
    "    print(f\"the task name is : {task}\")\n",
    "    time.sleep(2)\n",
    "\n",
    "for task in tasks:\n",
    "    thread = threading.Thread(target = print_threads, args=(task,))\n",
    "    threads.append(thread)\n",
    "    thread.start()\n",
    "    print(f\"thread started : {thread}\")\n",
    "\n",
    "for thread in threads:\n",
    "    thread.join()\n",
    "    print(f\"the task is ended:{(thread,)}\")\n"
   ]
  },
  {
   "cell_type": "code",
   "execution_count": 1,
   "metadata": {},
   "outputs": [],
   "source": [
    "def partition(arr,low,high):\n",
    "    pivot = arr[high]\n",
    "\n",
    "    i = low -1\n",
    "\n",
    "    for j in range(low,high):\n",
    "        if arr[j]< pivot:\n",
    "            i += 1\n",
    "            swap(arr, i ,j)\n",
    "\n",
    "    swap(arr, i+1, high)\n",
    "    return i+1\n",
    "\n",
    "def swap(arr,i,j):\n",
    "    arr[i], arr[j] = arr[j], arr[i]\n",
    "\n",
    "def quickSort(arr, low, high):\n",
    "    if low < high:\n",
    "        pi = partition(arr, low, high)\n",
    "\n",
    "        quickSort(arr, low, pi -1)\n",
    "        quickSort(arr,pi+1, high)\n"
   ]
  },
  {
   "cell_type": "code",
   "execution_count": 2,
   "metadata": {},
   "outputs": [],
   "source": [
    "arr = [10, 7, 8, 9, 1, 5]\n",
    "n = len(arr)\n",
    "quickSort(arr, 0, n - 1)"
   ]
  },
  {
   "cell_type": "code",
   "execution_count": 16,
   "metadata": {},
   "outputs": [],
   "source": [
    "def heapify(arr, n, i):\n",
    "    largest = i\n",
    "\n",
    "    l = 2* i +1\n",
    "    r = 2* i +2\n",
    "\n",
    "    if l < n and arr[l] > arr[largest]:\n",
    "        largest = 1\n",
    "\n",
    "    if r < n and arr[r] > arr[largest]:\n",
    "        largest = r\n",
    "\n",
    "    if largest != i:\n",
    "\n",
    "        arr[i],arr[largest] = arr[largest], arr[i]\n",
    "\n",
    "\n",
    "        heapify(arr,n,largest)\n",
    "\n",
    "def heapSort(arr):\n",
    "    n=len(arr)\n",
    "\n",
    "    for i in range(n // 2 - 1, -1, -1):\n",
    "        heapify(arr, n, i)\n",
    "\n",
    "    for i in range(n - 1, 0, -1):\n",
    "\n",
    "        arr[0], arr[i] = arr[i], arr[0]\n",
    "\n",
    "        heapify(arr, i, 0)\n",
    "\n",
    "    print(\"the sorted array is: \"+\",\".join(map(str,arr)))\n"
   ]
  },
  {
   "cell_type": "code",
   "execution_count": 17,
   "metadata": {},
   "outputs": [
    {
     "name": "stdout",
     "output_type": "stream",
     "text": [
      "the sorted array is: 2,3,8,4,5,9,10\n"
     ]
    }
   ],
   "source": [
    "\n",
    "arr = [9, 4, 3, 8, 10, 2, 5] \n",
    "heapSort(arr)\n"
   ]
  },
  {
   "cell_type": "code",
   "execution_count": 18,
   "metadata": {},
   "outputs": [],
   "source": [
    "def binary_search(arr, low, high, x):\n",
    "\n",
    "    while low<=high:\n",
    "        mid = low +(high - low) // 2\n",
    "\n",
    "        if arr[mid] == x:\n",
    "            return mid\n",
    "        \n",
    "        elif arr[mid] <= x:\n",
    "            low = mid + 1\n",
    "\n",
    "        else:\n",
    "            high = mid - 1\n",
    "\n",
    "    return -1\n"
   ]
  },
  {
   "cell_type": "code",
   "execution_count": 23,
   "metadata": {},
   "outputs": [
    {
     "name": "stdout",
     "output_type": "stream",
     "text": [
      "Not found\n"
     ]
    }
   ],
   "source": [
    "arr = [2, 3, 4, 10, 40]\n",
    "x = 50\n",
    "result = binary_search(arr, 0, len(arr)-1, x)\n",
    "print(f\"the number is at index: {result}\") if result!= -1 else print(\"Not found\")"
   ]
  },
  {
   "cell_type": "markdown",
   "metadata": {},
   "source": [
    "# Two pointer"
   ]
  },
  {
   "cell_type": "code",
   "execution_count": null,
   "metadata": {},
   "outputs": [],
   "source": [
    "def two_sum(arr, target):\n",
    "    arr.sort()\n",
    "\n",
    "    left, right = 0, len(arr) - 1\n",
    "\n",
    "    while left < right:\n",
    "\n",
    "        sum = arr[left] + arr[right]\n",
    "\n",
    "        if sum == target:\n",
    "            return [left, right]\n",
    "\n",
    "        elif sum < target:\n",
    "            left += 1\n",
    "\n",
    "        else:\n",
    "            right -= 1\n",
    "\n",
    "    \n",
    "    return None"
   ]
  },
  {
   "cell_type": "code",
   "execution_count": null,
   "metadata": {},
   "outputs": [
    {
     "name": "stdout",
     "output_type": "stream",
     "text": [
      "[0, 2]\n"
     ]
    }
   ],
   "source": [
    "arr = [3, 2, 4]\n",
    "target = 6\n",
    "\n",
    "result = two_sum(arr, target)\n",
    "\n",
    "print(result)"
   ]
  },
  {
   "cell_type": "code",
   "execution_count": 12,
   "metadata": {},
   "outputs": [],
   "source": [
    "n = 2\n",
    "m = -2"
   ]
  },
  {
   "cell_type": "code",
   "execution_count": 13,
   "metadata": {},
   "outputs": [
    {
     "name": "stdout",
     "output_type": "stream",
     "text": [
      "False\n"
     ]
    }
   ],
   "source": [
    "if n == m: \n",
    "    print(True)\n",
    "else :\n",
    "    print(False)"
   ]
  },
  {
   "cell_type": "code",
   "execution_count": 1,
   "metadata": {},
   "outputs": [],
   "source": [
    "def Prefix_Sum(arr, n , prefixsum):\n",
    "\n",
    "    prefixsum[0] = arr[0]\n",
    "\n",
    "    for i in range(1,n):\n",
    "        prefixsum[i] = prefixsum[i - 1]+ arr[i]\n",
    "        "
   ]
  },
  {
   "cell_type": "code",
   "execution_count": 4,
   "metadata": {},
   "outputs": [
    {
     "name": "stdout",
     "output_type": "stream",
     "text": [
      "10  14  30  50  "
     ]
    }
   ],
   "source": [
    "arr = [10,4,16,20]\n",
    "\n",
    "n = len(arr)\n",
    "\n",
    "prefixsum = [0 for i in range (n+1)]\n",
    "\n",
    "Prefix_Sum(arr, n, prefixsum)\n",
    "\n",
    "for i in range(n):\n",
    "    print(prefixsum[i], \" \", end=\"\")"
   ]
  },
  {
   "cell_type": "code",
   "execution_count": 1,
   "metadata": {},
   "outputs": [],
   "source": [
    "nums = [1,2,2,2,2,2,2]\n"
   ]
  },
  {
   "cell_type": "code",
   "execution_count": 2,
   "metadata": {},
   "outputs": [],
   "source": [
    "op = [1]*len(nums)"
   ]
  },
  {
   "cell_type": "code",
   "execution_count": 3,
   "metadata": {},
   "outputs": [
    {
     "data": {
      "text/plain": [
       "[1, 1, 1, 1, 1, 1, 1]"
      ]
     },
     "execution_count": 3,
     "metadata": {},
     "output_type": "execute_result"
    }
   ],
   "source": [
    "op"
   ]
  },
  {
   "cell_type": "code",
   "execution_count": 4,
   "metadata": {},
   "outputs": [],
   "source": [
    "left = 1\n"
   ]
  },
  {
   "cell_type": "code",
   "execution_count": 5,
   "metadata": {},
   "outputs": [],
   "source": [
    "for i in range(len(nums)):\n",
    "    op[i] *= left\n",
    "    left *= nums[i]"
   ]
  },
  {
   "cell_type": "code",
   "execution_count": 1,
   "metadata": {},
   "outputs": [],
   "source": [
    "def prod_Arr(arr):\n",
    "    res = []\n",
    "    prefix_arr = 1\n",
    "    postfix_arr = 1\n",
    "\n",
    "    for i in range(1,len(arr)-1):\n",
    "        prefix_arr[i] = prefix_arr[i-1]* arr[i]\n",
    "        print(prefix_arr)\n",
    "\n",
    "    for i in range(len(arr)-1,-1,-1):\n",
    "        postfix_arr[i] = postfix_arr[i]* arr"
   ]
  },
  {
   "cell_type": "code",
   "execution_count": 2,
   "metadata": {},
   "outputs": [],
   "source": [
    "arr = [[1,3],[15,18],[2,6],[8,10]]\n",
    "arr.sort()"
   ]
  },
  {
   "cell_type": "code",
   "execution_count": 3,
   "metadata": {},
   "outputs": [
    {
     "data": {
      "text/plain": [
       "[[1, 3], [2, 6], [8, 10], [15, 18]]"
      ]
     },
     "execution_count": 3,
     "metadata": {},
     "output_type": "execute_result"
    }
   ],
   "source": [
    "arr"
   ]
  },
  {
   "cell_type": "code",
   "execution_count": 4,
   "metadata": {},
   "outputs": [
    {
     "name": "stdout",
     "output_type": "stream",
     "text": [
      "2 6\n",
      "8 10\n",
      "15 18\n"
     ]
    }
   ],
   "source": [
    "for start, end in arr[1:]:\n",
    "    print(arr[])\n",
    "    print(start,end)"
   ]
  },
  {
   "cell_type": "code",
   "execution_count": 5,
   "metadata": {},
   "outputs": [
    {
     "data": {
      "text/plain": [
       "18"
      ]
     },
     "execution_count": 5,
     "metadata": {},
     "output_type": "execute_result"
    }
   ],
   "source": [
    "arr[-1][1]"
   ]
  },
  {
   "cell_type": "code",
   "execution_count": 6,
   "metadata": {},
   "outputs": [
    {
     "data": {
      "text/plain": [
       "[1, 3]"
      ]
     },
     "execution_count": 6,
     "metadata": {},
     "output_type": "execute_result"
    }
   ],
   "source": [
    "arr[0]"
   ]
  },
  {
   "cell_type": "code",
   "execution_count": 16,
   "metadata": {},
   "outputs": [],
   "source": [
    "diction = {1:1,4:2,3:4}"
   ]
  },
  {
   "cell_type": "code",
   "execution_count": 31,
   "metadata": {},
   "outputs": [],
   "source": [
    "diction[4] +=1"
   ]
  },
  {
   "cell_type": "code",
   "execution_count": 32,
   "metadata": {},
   "outputs": [
    {
     "data": {
      "text/plain": [
       "5"
      ]
     },
     "execution_count": 32,
     "metadata": {},
     "output_type": "execute_result"
    }
   ],
   "source": [
    "diction[4]"
   ]
  },
  {
   "cell_type": "code",
   "execution_count": 22,
   "metadata": {},
   "outputs": [
    {
     "ename": "TypeError",
     "evalue": "'builtin_function_or_method' object is not subscriptable",
     "output_type": "error",
     "traceback": [
      "\u001b[0;31m---------------------------------------------------------------------------\u001b[0m",
      "\u001b[0;31mTypeError\u001b[0m                                 Traceback (most recent call last)",
      "Cell \u001b[0;32mIn[22], line 1\u001b[0m\n\u001b[0;32m----> 1\u001b[0m \u001b[43mdiction\u001b[49m\u001b[38;5;241;43m.\u001b[39;49m\u001b[43mkeys\u001b[49m\u001b[43m[\u001b[49m\u001b[38;5;28;43mmax\u001b[39;49m\u001b[43m(\u001b[49m\u001b[43mdiction\u001b[49m\u001b[38;5;241;43m.\u001b[39;49m\u001b[43mvalues\u001b[49m\u001b[43m(\u001b[49m\u001b[43m)\u001b[49m\u001b[43m)\u001b[49m\u001b[43m]\u001b[49m \n",
      "\u001b[0;31mTypeError\u001b[0m: 'builtin_function_or_method' object is not subscriptable"
     ]
    }
   ],
   "source": [
    "diction.keys[max(diction.values())] "
   ]
  },
  {
   "cell_type": "code",
   "execution_count": 21,
   "metadata": {},
   "outputs": [
    {
     "data": {
      "text/plain": [
       "4"
      ]
     },
     "execution_count": 21,
     "metadata": {},
     "output_type": "execute_result"
    }
   ],
   "source": [
    "max(diction.values())"
   ]
  },
  {
   "cell_type": "code",
   "execution_count": 26,
   "metadata": {},
   "outputs": [
    {
     "ename": "TypeError",
     "evalue": "dict.keys() takes no keyword arguments",
     "output_type": "error",
     "traceback": [
      "\u001b[0;31m---------------------------------------------------------------------------\u001b[0m",
      "\u001b[0;31mTypeError\u001b[0m                                 Traceback (most recent call last)",
      "Cell \u001b[0;32mIn[26], line 1\u001b[0m\n\u001b[0;32m----> 1\u001b[0m \u001b[43mdiction\u001b[49m\u001b[38;5;241;43m.\u001b[39;49m\u001b[43mkeys\u001b[49m\u001b[43m(\u001b[49m\u001b[43mvalue\u001b[49m\u001b[43m \u001b[49m\u001b[38;5;241;43m=\u001b[39;49m\u001b[38;5;241;43m2\u001b[39;49m\u001b[43m)\u001b[49m\n",
      "\u001b[0;31mTypeError\u001b[0m: dict.keys() takes no keyword arguments"
     ]
    }
   ],
   "source": [
    "arr=[1,2,3,42,1,2,1,1,1]"
   ]
  },
  {
   "cell_type": "code",
   "execution_count": 34,
   "metadata": {},
   "outputs": [
    {
     "ename": "NameError",
     "evalue": "name 'Counter' is not defined",
     "output_type": "error",
     "traceback": [
      "\u001b[0;31m---------------------------------------------------------------------------\u001b[0m",
      "\u001b[0;31mNameError\u001b[0m                                 Traceback (most recent call last)",
      "Cell \u001b[0;32mIn[34], line 1\u001b[0m\n\u001b[0;32m----> 1\u001b[0m \u001b[38;5;28mdict\u001b[39m(\u001b[43mCounter\u001b[49m(arr))\n",
      "\u001b[0;31mNameError\u001b[0m: name 'Counter' is not defined"
     ]
    }
   ],
   "source": [
    "dict(Counter(arr))"
   ]
  },
  {
   "cell_type": "code",
   "execution_count": 6,
   "metadata": {},
   "outputs": [],
   "source": [
    "def minfindinrotated(arr):\n",
    "    res = arr[0]\n",
    "    l, r = 0 , len(arr) -1\n",
    "\n",
    "    while l <= r:\n",
    "        if arr[l] < arr[r]:\n",
    "            res = min(res, arr[l])\n",
    "            break\n",
    "            \n",
    "        m = (l+r)//2\n",
    "        res = min(res, arr[m])\n",
    "\n",
    "        if arr[m] >= arr[l] :\n",
    "            l = m+1\n",
    "        else:\n",
    "            r = m-1\n",
    "\n",
    "    return res"
   ]
  },
  {
   "cell_type": "code",
   "execution_count": 7,
   "metadata": {},
   "outputs": [
    {
     "name": "stdout",
     "output_type": "stream",
     "text": [
      "1\n"
     ]
    }
   ],
   "source": [
    "arr = [4,5,6,1,2,3]\n",
    "\n",
    "print(minfindinrotated(arr))"
   ]
  },
  {
   "cell_type": "code",
   "execution_count": null,
   "metadata": {},
   "outputs": [],
   "source": []
  }
 ],
 "metadata": {
  "kernelspec": {
   "display_name": "Python 3",
   "language": "python",
   "name": "python3"
  },
  "language_info": {
   "codemirror_mode": {
    "name": "ipython",
    "version": 3
   },
   "file_extension": ".py",
   "mimetype": "text/x-python",
   "name": "python",
   "nbconvert_exporter": "python",
   "pygments_lexer": "ipython3",
   "version": "3.12.1"
  }
 },
 "nbformat": 4,
 "nbformat_minor": 2
}
