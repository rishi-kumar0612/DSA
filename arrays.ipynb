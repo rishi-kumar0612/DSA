{
 "cells": [
  {
   "cell_type": "code",
   "execution_count": 1,
   "metadata": {},
   "outputs": [],
   "source": [
    "def searchy(arr, m):\n",
    "    if len(arr) == 0 :\n",
    "        return None\n",
    "\n",
    "    for i in range(len(arr)):\n",
    "        if arr[i] == m:\n",
    "            print(\"item found :\",m)\n",
    "            return None\n",
    "\n",
    "        else :\n",
    "            print (\"item not found\")"
   ]
  },
  {
   "cell_type": "code",
   "execution_count": 2,
   "metadata": {},
   "outputs": [
    {
     "name": "stdout",
     "output_type": "stream",
     "text": [
      "item not found\n",
      "item not found\n",
      "item not found\n",
      "item found : 4\n"
     ]
    }
   ],
   "source": [
    "arr = [1,2,3,4,5,6,7,8,9]\n",
    "m = 4\n",
    "searchy(arr,m)"
   ]
  },
  {
   "cell_type": "code",
   "execution_count": 3,
   "metadata": {},
   "outputs": [],
   "source": [
    "def largest(arr):\n",
    "    mx = arr[0]\n",
    "\n",
    "    for i in range(1,len(arr)):\n",
    "        if arr[i] > mx:\n",
    "            mx = arr[i]\n",
    "        \n",
    "    print(\"found the largest item:\",mx)"
   ]
  },
  {
   "cell_type": "code",
   "execution_count": 4,
   "metadata": {},
   "outputs": [
    {
     "name": "stdout",
     "output_type": "stream",
     "text": [
      "found the largest item: 9\n"
     ]
    }
   ],
   "source": [
    "largest(arr)"
   ]
  },
  {
   "cell_type": "code",
   "execution_count": null,
   "metadata": {},
   "outputs": [],
   "source": []
  }
 ],
 "metadata": {
  "kernelspec": {
   "display_name": "Python 3",
   "language": "python",
   "name": "python3"
  },
  "language_info": {
   "codemirror_mode": {
    "name": "ipython",
    "version": 3
   },
   "file_extension": ".py",
   "mimetype": "text/x-python",
   "name": "python",
   "nbconvert_exporter": "python",
   "pygments_lexer": "ipython3",
   "version": "3.12.1"
  }
 },
 "nbformat": 4,
 "nbformat_minor": 2
}
